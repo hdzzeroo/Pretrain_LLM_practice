{
 "cells": [
  {
   "cell_type": "markdown",
   "id": "2b091ea1",
   "metadata": {},
   "source": [
    "## 实现GPT模型"
   ]
  },
  {
   "cell_type": "markdown",
   "id": "6b2dae9e",
   "metadata": {},
   "source": [
    "### 编写LLM架构"
   ]
  },
  {
   "cell_type": "code",
   "execution_count": null,
   "id": "e43eccfd",
   "metadata": {},
   "outputs": [],
   "source": []
  }
 ],
 "metadata": {
  "kernelspec": {
   "display_name": "LLM_from_0",
   "language": "python",
   "name": "python3"
  },
  "language_info": {
   "name": "python",
   "version": "3.11.13"
  }
 },
 "nbformat": 4,
 "nbformat_minor": 5
}
