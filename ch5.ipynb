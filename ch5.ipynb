{
 "cells": [
  {
   "cell_type": "markdown",
   "id": "d322a6e6",
   "metadata": {},
   "source": [
    "# pretrain LLM"
   ]
  },
  {
   "cell_type": "markdown",
   "id": "c343baac",
   "metadata": {},
   "source": [
    "## 评估生成的文本"
   ]
  },
  {
   "cell_type": "markdown",
   "id": "73f50822",
   "metadata": {},
   "source": [
    "### 生成文本"
   ]
  },
  {
   "cell_type": "markdown",
   "id": "f18d0f06",
   "metadata": {},
   "source": []
  }
 ],
 "metadata": {
  "language_info": {
   "name": "python"
  }
 },
 "nbformat": 4,
 "nbformat_minor": 5
}
